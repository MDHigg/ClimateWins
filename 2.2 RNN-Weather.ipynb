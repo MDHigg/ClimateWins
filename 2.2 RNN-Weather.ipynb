{
 "cells": [
  {
   "cell_type": "code",
   "execution_count": null,
   "id": "f7786104",
   "metadata": {},
   "outputs": [],
   "source": [
    "import pandas as pd\n",
    "import numpy as np\n",
    "import seaborn as sns\n",
    "import os\n",
    "import operator\n",
    "import matplotlib.pyplot as plt\n",
    "from sklearn.model_selection import train_test_split\n",
    "from sklearn.preprocessing import LabelEncoder\n",
    "import tensorflow as tf\n",
    "import keras\n",
    "from numpy import reshape\n",
    "from keras.models import Sequential\n",
    "from keras.layers import Conv1D, Conv2D, Dense, BatchNormalization, Flatten, MaxPooling1D\n",
    "from keras.layers import Dense, Dropout\n",
    "from keras import utils\n",
    "# from keras.utils import np_utils"
   ]
  },
  {
   "cell_type": "code",
   "execution_count": null,
   "id": "d7bdb477-78ec-47d1-87ea-74c34d676504",
   "metadata": {},
   "outputs": [],
   "source": [
    "from sklearn.metrics import multilabel_confusion_matrix, accuracy_score, confusion_matrix, ConfusionMatrixDisplay"
   ]
  },
  {
   "cell_type": "code",
   "execution_count": null,
   "id": "b0c31b38",
   "metadata": {},
   "outputs": [],
   "source": [
    "path = r'C:\\Users\\Michael\\Desktop\\Career Foundry\\03 Machine Learning\\02 Real-World Applications of Machine Learning\\Data Sets'"
   ]
  },
  {
   "cell_type": "code",
   "execution_count": null,
   "id": "6c2b8021",
   "metadata": {},
   "outputs": [],
   "source": [
    "X_full = pd.read_csv(os.path.join(path, 'DATASET weather_prediction_imputed.csv'), index_col = False, header=0)\n",
    "X_full.head()"
   ]
  },
  {
   "cell_type": "code",
   "execution_count": null,
   "id": "1873ea58",
   "metadata": {},
   "outputs": [],
   "source": [
    "import warnings\n",
    "warnings.simplefilter('ignore')\n",
    "\n",
    "# sns.pairplot(X_full[['species', 'sepal_length', 'sepal_width', 'petal_length', 'petal_width']], hue = 'species')\n",
    "# plt.show()"
   ]
  },
  {
   "cell_type": "code",
   "execution_count": null,
   "id": "df9c4a25",
   "metadata": {},
   "outputs": [],
   "source": [
    "#Create an 'X' matrix by dropping the unneeded columns.\n",
    "y = pd.read_csv(os.path.join(path, 'Dataset-Answers-Weather_Prediction_Pleasant_Weather.csv'), index_col = False, header=0)"
   ]
  },
  {
   "cell_type": "code",
   "execution_count": null,
   "id": "0d099712-c43f-48e7-b79c-34b4eddbd918",
   "metadata": {},
   "outputs": [],
   "source": [
    "X_full.drop(columns=[\"YEAR\", \"MONTH\", \"DAY\"], inplace=True)\n",
    "y.drop(columns=[\"YEAR\", \"MONTH\", \"DAY\"], inplace=True)"
   ]
  },
  {
   "cell_type": "code",
   "execution_count": null,
   "id": "5e5c7d2f-fec3-4a66-9731-22d9c57fb0e6",
   "metadata": {},
   "outputs": [],
   "source": []
  },
  {
   "cell_type": "code",
   "execution_count": null,
   "id": "8286a723-4457-4a9b-95cc-3d63b1492026",
   "metadata": {},
   "outputs": [],
   "source": [
    "X"
   ]
  },
  {
   "cell_type": "code",
   "execution_count": null,
   "id": "61f0ddc5-b11b-41d3-b352-3705be9b7abc",
   "metadata": {},
   "outputs": [],
   "source": [
    "y"
   ]
  },
  {
   "cell_type": "code",
   "execution_count": null,
   "id": "6f29304a-0538-44e9-bcf8-3187a7cbea76",
   "metadata": {},
   "outputs": [],
   "source": [
    "y_name = y.columns"
   ]
  },
  {
   "cell_type": "code",
   "execution_count": null,
   "id": "5c67a7ee-e7ca-4bb3-bacd-ee47e696eb33",
   "metadata": {},
   "outputs": [],
   "source": [
    "y_name"
   ]
  },
  {
   "cell_type": "code",
   "execution_count": null,
   "id": "2f34bc44-4a69-4bbc-bf62-40b2878de311",
   "metadata": {},
   "outputs": [],
   "source": [
    "y_array = y.values"
   ]
  },
  {
   "cell_type": "code",
   "execution_count": null,
   "id": "47db007e-f7c7-4466-a4aa-7112fa496b13",
   "metadata": {},
   "outputs": [],
   "source": [
    "y_array"
   ]
  },
  {
   "cell_type": "code",
   "execution_count": null,
   "id": "b6d8ed04-ae69-486a-9850-2c0dacb93e8b",
   "metadata": {},
   "outputs": [],
   "source": [
    "from sklearn.preprocessing import StandardScaler\n",
    "scaler = StandardScaler()\n",
    "StandardScaler()"
   ]
  },
  {
   "cell_type": "code",
   "execution_count": null,
   "id": "12e276af-519f-45dc-870a-8970e03455b1",
   "metadata": {},
   "outputs": [],
   "source": [
    "X = scaler.fit_transform(X)\n",
    "X"
   ]
  },
  {
   "cell_type": "code",
   "execution_count": null,
   "id": "9ad769ef-62a3-4010-a58b-4f029039816e",
   "metadata": {},
   "outputs": [],
   "source": [
    "X.shape"
   ]
  },
  {
   "cell_type": "code",
   "execution_count": null,
   "id": "d2cb163c-f50b-4c24-9627-cd0e16cc649b",
   "metadata": {},
   "outputs": [],
   "source": [
    "X = X.reshape(-1,15,9)"
   ]
  },
  {
   "cell_type": "code",
   "execution_count": null,
   "id": "a2931ef9-ece5-4289-8795-1eeebfc2ae6d",
   "metadata": {},
   "outputs": [],
   "source": [
    "print(X.shape)\n",
    "print(y.shape)"
   ]
  },
  {
   "cell_type": "code",
   "execution_count": null,
   "id": "e3ecaa76-ec5a-4690-837d-e9605e9a83ba",
   "metadata": {},
   "outputs": [],
   "source": [
    "from sklearn.model_selection import train_test_split\n",
    "X_train, X_test, y_train, y_test = train_test_split(X, y_array, test_size=0.3, random_state=42)"
   ]
  },
  {
   "cell_type": "code",
   "execution_count": null,
   "id": "1c0ce2b4-9b62-49a7-8146-2377cbf6edbb",
   "metadata": {},
   "outputs": [],
   "source": [
    "print(X_train.shape)\n",
    "print(X_test.shape)\n",
    "print(y_train.shape)\n",
    "print(y_test.shape)"
   ]
  },
  {
   "cell_type": "code",
   "execution_count": null,
   "id": "d0ea9037-9aee-4c3a-9d14-3689ea9b874f",
   "metadata": {},
   "outputs": [],
   "source": [
    "y_name"
   ]
  },
  {
   "cell_type": "code",
   "execution_count": null,
   "id": "128e8819-4734-4c63-bccb-0da00c51fef7",
   "metadata": {},
   "outputs": [],
   "source": [
    "types = {0:'BASEL_pleasant_weather', 1:'BELGRADE_pleasant_weather',\n",
    "       2:'BUDAPEST_pleasant_weather', 3:'DEBILT_pleasant_weather',\n",
    "       4:'DUSSELDORF_pleasant_weather', 5:'HEATHROW_pleasant_weather',\n",
    "       6:'KASSEL_pleasant_weather', 7:'LJUBLJANA_pleasant_weather',\n",
    "       8:'MAASTRICHT_pleasant_weather', 9:'MADRID_pleasant_weather',\n",
    "       10:'MUNCHENB_pleasant_weather', 11:'OSLO_pleasant_weather',\n",
    "       12:'SONNBLICK_pleasant_weather', 13:'STOCKHOLM_pleasant_weather',\n",
    "       14:'VALENTIA_pleasant_weather'}"
   ]
  },
  {
   "cell_type": "code",
   "execution_count": null,
   "id": "5e7b6cc1-ea11-48c2-92fb-39fbb6851d57",
   "metadata": {},
   "outputs": [],
   "source": [
    "def convert(inputx):\n",
    "  for t_list in inputx:\n",
    "    for i,h in enumerate(t_list):\n",
    "      if h==0:\n",
    "        yield f\"{types[i]}\".replace(\"_ple\", \"_unple\")\n",
    "      else:\n",
    "        yield f\"{types[i]}\""
   ]
  },
  {
   "cell_type": "code",
   "execution_count": null,
   "id": "1bfb4bfd",
   "metadata": {},
   "outputs": [],
   "source": [
    "'''def confusion_matrix(y_true, y_pred):\n",
    "    # y_true = pd.Series([types[y] for y in y_true])\n",
    "    # y_pred = pd.Series([types[y] for y in np.argmax(y_pred, axis=-1)])\n",
    "    # an axis of \"-1\" will return the last array in y_pred, i.e. the pleasant name in our case\n",
    "\n",
    "    y_true = pd.Series(convert(y_true))\n",
    "    y_pred = pd.Series(convert(y_pred))\n",
    "    \n",
    "    return pd.crosstab(y_true, y_pred, rownames=['True'], colnames=['Pred'])'''"
   ]
  },
  {
   "cell_type": "markdown",
   "id": "79c37993-d794-4f19-a26f-ca6d3e445459",
   "metadata": {},
   "source": [
    "# CNN RELU"
   ]
  },
  {
   "cell_type": "code",
   "execution_count": null,
   "id": "db00d597-8820-44fa-b847-a31b26cc9132",
   "metadata": {},
   "outputs": [],
   "source": [
    "model = Sequential()\n",
    "model.add(Conv1D(64, kernel_size=2, activation='relu', input_shape=(15,9))) #64\n",
    "model.add(Dense(32, activation='relu')) #16\n",
    "model.add(MaxPooling1D())\n",
    "model.add(Flatten())\n",
    "model.add(Dense(15, activation='relu')) #3\n",
    "model.compile(loss='categorical_crossentropy', optimizer='adam', metrics=['accuracy'])\n",
    "model.summary()"
   ]
  },
  {
   "cell_type": "code",
   "execution_count": null,
   "id": "dc282ef8-f6aa-4558-9406-eb791f9aeb51",
   "metadata": {
    "scrolled": true
   },
   "outputs": [],
   "source": [
    "model = Sequential()\n",
    "model.add(Conv1D(64, kernel_size=2, activation='relu', input_shape=(15,9))) #64\n",
    "model.add(Dense(16, activation='relu')) #16\n",
    "model.add(MaxPooling1D())\n",
    "model.add(Flatten())\n",
    "model.add(Dense(3, activation='softmax')) #3\n",
    "model.compile(loss='sparse_categorical_crossentropy', optimizer='adam', metrics=['accuracy'])\n",
    "model.summary()"
   ]
  },
  {
   "cell_type": "code",
   "execution_count": null,
   "id": "988d91ac-22a5-4326-8233-d0b120bf698f",
   "metadata": {},
   "outputs": [],
   "source": [
    "model.fit(X_train,y_train, batch_size=32, epochs=30,verbose=1)\n",
    "acc = model.evaluate(X_train,y_train) #validation_data=(TeX2, TeY2) <---used for a 3-split test\n",
    "print('Loss:', acc[0], 'Accuracy', acc[1])"
   ]
  },
  {
   "cell_type": "code",
   "execution_count": null,
   "id": "d6a0d740-2447-4463-9a2f-8888fa543544",
   "metadata": {},
   "outputs": [],
   "source": [
    "model.fit(X_train,y_train,batch_size=32, epochs=10,verbose=1)\n",
    "acc = model.evaluate(X_train,y_train) #validation_data=(TeX2, TeY2) <---used for a 3-split test\n",
    "print('Loss:', acc[0], 'Accuracy', acc[1])"
   ]
  },
  {
   "cell_type": "markdown",
   "id": "7df50dc8-0039-4ebb-9312-05a8956c1076",
   "metadata": {},
   "source": [
    "# RNN"
   ]
  },
  {
   "cell_type": "code",
   "execution_count": null,
   "id": "8be94d99-9fd4-48e7-998b-c982c95e7621",
   "metadata": {},
   "outputs": [],
   "source": [
    "pred = model.predict(X_test)\n",
    "#pred_y = pred.argmax(axis=-1)\n",
    "\n",
    "# Evaluate\n",
    "print(confusion_matrix(y_test, pred))#model.predict(TeX2)))"
   ]
  },
  {
   "cell_type": "code",
   "execution_count": null,
   "id": "4cfc7a03-2a5f-4d3d-ad7c-9dd978c8d437",
   "metadata": {
    "jp-MarkdownHeadingCollapsed": true
   },
   "outputs": [],
   "source": [
    "# locations = list({x.split(\"_\")[0] for x in df_scaled.columns if x not in [\"MONTH\", \"DATE\"]})\n",
    "locations = [\"BASEL\", \"BELGRADE\", \"BUDAPEST\", \"DEBILT\", \n",
    "             \"DUSSELDORF\", \"HEATHROW\", \"KASSEL\", \"LJUBLJANA\", \n",
    "             \"MAASTRICHT\", \"MADRID\", \"MUNCHENB\", \"OSLO\", \n",
    "             \"SONNBLICK\", \"STOCKHOLM\", \"VALENTIA\"]"
   ]
  },
  {
   "cell_type": "code",
   "execution_count": 267,
   "id": "660cbdfb-4664-498f-b073-1b4775217869",
   "metadata": {},
   "outputs": [],
   "source": [
    "from tensorflow.keras.layers import SimpleRNN\n",
    "\n",
    "model = Sequential()\n",
    "model.add(SimpleRNN(64, input_shape=(15, 9), activation='relu'))\n",
    "model.add(Dense(15, activation='sigmoid'))\n",
    "model.compile(loss='binary_crossentropy', optimizer='adam', metrics=[keras.metrics.TruePositives(name='tp'),\n",
    "        keras.metrics.FalsePositives(name='fp'),\n",
    "        keras.metrics.TrueNegatives(name='tn'),\n",
    "        keras.metrics.FalseNegatives(name='fn'),\n",
    "        keras.metrics.BinaryAccuracy(name='accuracy'),\n",
    "        keras.metrics.Precision(name='precision'),\n",
    "        keras.metrics.Recall(name='recall'),\n",
    "        keras.metrics.AUC(name='auc')])"
   ]
  },
  {
   "cell_type": "code",
   "execution_count": 276,
   "id": "ee98709f-f88f-4391-b54c-480a364bb584",
   "metadata": {},
   "outputs": [
    {
     "name": "stdout",
     "output_type": "stream",
     "text": [
      "Epoch 1/43\n",
      "\u001b[1m503/503\u001b[0m \u001b[32m━━━━━━━━━━━━━━━━━━━━\u001b[0m\u001b[37m\u001b[0m \u001b[1m2s\u001b[0m 5ms/step - accuracy: 0.9927 - auc: 0.9993 - fn: 308.1151 - fp: 552.3889 - loss: 0.0216 - precision: 0.9788 - recall: 0.9876 - tn: 94454.8984 - tp: 25881.8008\n",
      "Epoch 2/43\n",
      "\u001b[1m503/503\u001b[0m \u001b[32m━━━━━━━━━━━━━━━━━━━━\u001b[0m\u001b[37m\u001b[0m \u001b[1m2s\u001b[0m 5ms/step - accuracy: 0.9900 - auc: 0.9988 - fn: 414.2520 - fp: 593.8472 - loss: 0.0282 - precision: 0.9749 - recall: 0.9794 - tn: 94263.0234 - tp: 25926.0801\n",
      "Epoch 3/43\n",
      "\u001b[1m503/503\u001b[0m \u001b[32m━━━━━━━━━━━━━━━━━━━━\u001b[0m\u001b[37m\u001b[0m \u001b[1m2s\u001b[0m 5ms/step - accuracy: 0.9935 - auc: 0.9994 - fn: 290.0298 - fp: 500.9186 - loss: 0.0195 - precision: 0.9803 - recall: 0.9894 - tn: 94725.1953 - tp: 25681.0605\n",
      "Epoch 4/43\n",
      "\u001b[1m503/503\u001b[0m \u001b[32m━━━━━━━━━━━━━━━━━━━━\u001b[0m\u001b[37m\u001b[0m \u001b[1m3s\u001b[0m 6ms/step - accuracy: 0.9935 - auc: 0.9994 - fn: 289.7103 - fp: 496.5555 - loss: 0.0191 - precision: 0.9810 - recall: 0.9891 - tn: 94533.1797 - tp: 25877.7559\n",
      "Epoch 5/43\n",
      "\u001b[1m503/503\u001b[0m \u001b[32m━━━━━━━━━━━━━━━━━━━━\u001b[0m\u001b[37m\u001b[0m \u001b[1m3s\u001b[0m 6ms/step - accuracy: 0.9936 - auc: 0.9994 - fn: 262.4980 - fp: 505.0218 - loss: 0.0189 - precision: 0.9806 - recall: 0.9903 - tn: 94488.0938 - tp: 25941.5918\n",
      "Epoch 6/43\n",
      "\u001b[1m503/503\u001b[0m \u001b[32m━━━━━━━━━━━━━━━━━━━━\u001b[0m\u001b[37m\u001b[0m \u001b[1m3s\u001b[0m 6ms/step - accuracy: 0.9934 - auc: 0.9994 - fn: 312.5198 - fp: 529.0357 - loss: 0.0191 - precision: 0.9805 - recall: 0.9885 - tn: 94645.9453 - tp: 25709.7031\n",
      "Epoch 7/43\n",
      "\u001b[1m503/503\u001b[0m \u001b[32m━━━━━━━━━━━━━━━━━━━━\u001b[0m\u001b[37m\u001b[0m \u001b[1m3s\u001b[0m 5ms/step - accuracy: 0.9929 - auc: 0.9992 - fn: 316.0615 - fp: 547.1429 - loss: 0.0213 - precision: 0.9790 - recall: 0.9880 - tn: 94562.0156 - tp: 25771.9844\n",
      "Epoch 8/43\n",
      "\u001b[1m503/503\u001b[0m \u001b[32m━━━━━━━━━━━━━━━━━━━━\u001b[0m\u001b[37m\u001b[0m \u001b[1m3s\u001b[0m 5ms/step - accuracy: 0.9932 - auc: 0.9993 - fn: 306.3968 - fp: 497.3492 - loss: 0.0200 - precision: 0.9810 - recall: 0.9875 - tn: 94707.1094 - tp: 25686.3496\n",
      "Epoch 9/43\n",
      "\u001b[1m503/503\u001b[0m \u001b[32m━━━━━━━━━━━━━━━━━━━━\u001b[0m\u001b[37m\u001b[0m \u001b[1m3s\u001b[0m 6ms/step - accuracy: 0.9936 - auc: 0.9994 - fn: 286.6627 - fp: 477.5893 - loss: 0.0191 - precision: 0.9816 - recall: 0.9888 - tn: 94465.5859 - tp: 25967.3633\n",
      "Epoch 10/43\n",
      "\u001b[1m503/503\u001b[0m \u001b[32m━━━━━━━━━━━━━━━━━━━━\u001b[0m\u001b[37m\u001b[0m \u001b[1m3s\u001b[0m 6ms/step - accuracy: 0.9903 - auc: 0.9984 - fn: 400.6647 - fp: 641.1528 - loss: 0.0312 - precision: 0.9726 - recall: 0.9824 - tn: 94365.4141 - tp: 25789.9688\n",
      "Epoch 11/43\n",
      "\u001b[1m503/503\u001b[0m \u001b[32m━━━━━━━━━━━━━━━━━━━━\u001b[0m\u001b[37m\u001b[0m \u001b[1m3s\u001b[0m 7ms/step - accuracy: 0.9829 - auc: 0.9966 - fn: 663.8631 - fp: 1032.6012 - loss: 0.0510 - precision: 0.9525 - recall: 0.9697 - tn: 93961.9375 - tp: 25538.7988\n",
      "Epoch 12/43\n",
      "\u001b[1m503/503\u001b[0m \u001b[32m━━━━━━━━━━━━━━━━━━━━\u001b[0m\u001b[37m\u001b[0m \u001b[1m3s\u001b[0m 7ms/step - accuracy: 0.9930 - auc: 0.9993 - fn: 305.8968 - fp: 482.9782 - loss: 0.0211 - precision: 0.9805 - recall: 0.9866 - tn: 94691.0703 - tp: 25717.2559\n",
      "Epoch 13/43\n",
      "\u001b[1m503/503\u001b[0m \u001b[32m━━━━━━━━━━━━━━━━━━━━\u001b[0m\u001b[37m\u001b[0m \u001b[1m3s\u001b[0m 6ms/step - accuracy: 0.9941 - auc: 0.9994 - fn: 274.5079 - fp: 443.2460 - loss: 0.0175 - precision: 0.9830 - recall: 0.9897 - tn: 94726.3438 - tp: 25753.1016\n",
      "Epoch 14/43\n",
      "\u001b[1m503/503\u001b[0m \u001b[32m━━━━━━━━━━━━━━━━━━━━\u001b[0m\u001b[37m\u001b[0m \u001b[1m3s\u001b[0m 5ms/step - accuracy: 0.9940 - auc: 0.9994 - fn: 262.6329 - fp: 460.3016 - loss: 0.0178 - precision: 0.9825 - recall: 0.9900 - tn: 94508.9062 - tp: 25965.3594\n",
      "Epoch 15/43\n",
      "\u001b[1m503/503\u001b[0m \u001b[32m━━━━━━━━━━━━━━━━━━━━\u001b[0m\u001b[37m\u001b[0m \u001b[1m3s\u001b[0m 7ms/step - accuracy: 0.9943 - auc: 0.9995 - fn: 244.8095 - fp: 396.3175 - loss: 0.0174 - precision: 0.9845 - recall: 0.9894 - tn: 94488.3594 - tp: 26067.7148\n",
      "Epoch 16/43\n",
      "\u001b[1m503/503\u001b[0m \u001b[32m━━━━━━━━━━━━━━━━━━━━\u001b[0m\u001b[37m\u001b[0m \u001b[1m3s\u001b[0m 6ms/step - accuracy: 0.9942 - auc: 0.9995 - fn: 281.1250 - fp: 436.2619 - loss: 0.0172 - precision: 0.9835 - recall: 0.9896 - tn: 94591.0781 - tp: 25888.7402\n",
      "Epoch 17/43\n",
      "\u001b[1m503/503\u001b[0m \u001b[32m━━━━━━━━━━━━━━━━━━━━\u001b[0m\u001b[37m\u001b[0m \u001b[1m3s\u001b[0m 6ms/step - accuracy: 0.9939 - auc: 0.9994 - fn: 276.3135 - fp: 465.4980 - loss: 0.0182 - precision: 0.9823 - recall: 0.9895 - tn: 94512.1797 - tp: 25943.2090\n",
      "Epoch 18/43\n",
      "\u001b[1m503/503\u001b[0m \u001b[32m━━━━━━━━━━━━━━━━━━━━\u001b[0m\u001b[37m\u001b[0m \u001b[1m3s\u001b[0m 6ms/step - accuracy: 0.9937 - auc: 0.9994 - fn: 276.5000 - fp: 436.8452 - loss: 0.0189 - precision: 0.9820 - recall: 0.9885 - tn: 94803.9453 - tp: 25679.9102\n",
      "Epoch 19/43\n",
      "\u001b[1m503/503\u001b[0m \u001b[32m━━━━━━━━━━━━━━━━━━━━\u001b[0m\u001b[37m\u001b[0m \u001b[1m2s\u001b[0m 5ms/step - accuracy: 0.9939 - auc: 0.9994 - fn: 267.3651 - fp: 450.7520 - loss: 0.0189 - precision: 0.9828 - recall: 0.9896 - tn: 94233.8594 - tp: 26245.2285\n",
      "Epoch 20/43\n",
      "\u001b[1m503/503\u001b[0m \u001b[32m━━━━━━━━━━━━━━━━━━━━\u001b[0m\u001b[37m\u001b[0m \u001b[1m3s\u001b[0m 7ms/step - accuracy: 0.9946 - auc: 0.9995 - fn: 260.1230 - fp: 405.5913 - loss: 0.0163 - precision: 0.9852 - recall: 0.9902 - tn: 94368.5938 - tp: 26162.8926\n",
      "Epoch 21/43\n",
      "\u001b[1m503/503\u001b[0m \u001b[32m━━━━━━━━━━━━━━━━━━━━\u001b[0m\u001b[37m\u001b[0m \u001b[1m3s\u001b[0m 6ms/step - accuracy: 0.9943 - auc: 0.9994 - fn: 248.8155 - fp: 421.0079 - loss: 0.0172 - precision: 0.9838 - recall: 0.9898 - tn: 94696.0625 - tp: 25831.3184\n",
      "Epoch 22/43\n",
      "\u001b[1m503/503\u001b[0m \u001b[32m━━━━━━━━━━━━━━━━━━━━\u001b[0m\u001b[37m\u001b[0m \u001b[1m3s\u001b[0m 6ms/step - accuracy: 0.9949 - auc: 0.9996 - fn: 249.3313 - fp: 395.3413 - loss: 0.0156 - precision: 0.9857 - recall: 0.9909 - tn: 94574.1484 - tp: 25978.3848\n",
      "Epoch 23/43\n",
      "\u001b[1m503/503\u001b[0m \u001b[32m━━━━━━━━━━━━━━━━━━━━\u001b[0m\u001b[37m\u001b[0m \u001b[1m3s\u001b[0m 6ms/step - accuracy: 0.9749 - auc: 0.9939 - fn: 1015.9662 - fp: 1157.7142 - loss: 0.0675 - precision: 0.9405 - recall: 0.9398 - tn: 93885.0781 - tp: 25138.4414\n",
      "Epoch 24/43\n",
      "\u001b[1m503/503\u001b[0m \u001b[32m━━━━━━━━━━━━━━━━━━━━\u001b[0m\u001b[37m\u001b[0m \u001b[1m3s\u001b[0m 5ms/step - accuracy: 0.9933 - auc: 0.9993 - fn: 236.8313 - fp: 481.1329 - loss: 0.0202 - precision: 0.9790 - recall: 0.9905 - tn: 94426.8203 - tp: 26052.4199\n",
      "Epoch 25/43\n",
      "\u001b[1m503/503\u001b[0m \u001b[32m━━━━━━━━━━━━━━━━━━━━\u001b[0m\u001b[37m\u001b[0m \u001b[1m3s\u001b[0m 6ms/step - accuracy: 0.9942 - auc: 0.9993 - fn: 237.6508 - fp: 439.9345 - loss: 0.0183 - precision: 0.9827 - recall: 0.9908 - tn: 94492.8438 - tp: 26026.7754\n",
      "Epoch 26/43\n",
      "\u001b[1m503/503\u001b[0m \u001b[32m━━━━━━━━━━━━━━━━━━━━\u001b[0m\u001b[37m\u001b[0m \u001b[1m3s\u001b[0m 6ms/step - accuracy: 0.9919 - auc: 0.9986 - fn: 314.9782 - fp: 510.4762 - loss: 0.0288 - precision: 0.9768 - recall: 0.9858 - tn: 94417.5156 - tp: 25954.2324\n",
      "Epoch 27/43\n",
      "\u001b[1m503/503\u001b[0m \u001b[32m━━━━━━━━━━━━━━━━━━━━\u001b[0m\u001b[37m\u001b[0m \u001b[1m3s\u001b[0m 7ms/step - accuracy: 0.9955 - auc: 0.9996 - fn: 200.3730 - fp: 354.9901 - loss: 0.0139 - precision: 0.9866 - recall: 0.9927 - tn: 94737.8047 - tp: 25904.0352\n",
      "Epoch 28/43\n",
      "\u001b[1m503/503\u001b[0m \u001b[32m━━━━━━━━━━━━━━━━━━━━\u001b[0m\u001b[37m\u001b[0m \u001b[1m3s\u001b[0m 6ms/step - accuracy: 0.9942 - auc: 0.9993 - fn: 273.6686 - fp: 419.9305 - loss: 0.0181 - precision: 0.9843 - recall: 0.9890 - tn: 94493.2969 - tp: 26010.3086\n",
      "Epoch 29/43\n",
      "\u001b[1m503/503\u001b[0m \u001b[32m━━━━━━━━━━━━━━━━━━━━\u001b[0m\u001b[37m\u001b[0m \u001b[1m3s\u001b[0m 6ms/step - accuracy: 0.9933 - auc: 0.9990 - fn: 283.7064 - fp: 461.2440 - loss: 0.0209 - precision: 0.9807 - recall: 0.9882 - tn: 94620.9141 - tp: 25831.3359\n",
      "Epoch 30/43\n",
      "\u001b[1m503/503\u001b[0m \u001b[32m━━━━━━━━━━━━━━━━━━━━\u001b[0m\u001b[37m\u001b[0m \u001b[1m3s\u001b[0m 6ms/step - accuracy: 0.9945 - auc: 0.9995 - fn: 246.3750 - fp: 403.7421 - loss: 0.0168 - precision: 0.9845 - recall: 0.9906 - tn: 94398.7422 - tp: 26148.3438\n",
      "Epoch 31/43\n",
      "\u001b[1m503/503\u001b[0m \u001b[32m━━━━━━━━━━━━━━━━━━━━\u001b[0m\u001b[37m\u001b[0m \u001b[1m3s\u001b[0m 6ms/step - accuracy: 0.9951 - auc: 0.9994 - fn: 219.4544 - fp: 384.3750 - loss: 0.0155 - precision: 0.9854 - recall: 0.9917 - tn: 94678.2422 - tp: 25915.1289\n",
      "Epoch 32/43\n",
      "\u001b[1m503/503\u001b[0m \u001b[32m━━━━━━━━━━━━━━━━━━━━\u001b[0m\u001b[37m\u001b[0m \u001b[1m3s\u001b[0m 7ms/step - accuracy: 0.9951 - auc: 0.9994 - fn: 239.2758 - fp: 383.3095 - loss: 0.0152 - precision: 0.9858 - recall: 0.9912 - tn: 94866.5703 - tp: 25708.0430\n",
      "Epoch 33/43\n",
      "\u001b[1m503/503\u001b[0m \u001b[32m━━━━━━━━━━━━━━━━━━━━\u001b[0m\u001b[37m\u001b[0m \u001b[1m3s\u001b[0m 6ms/step - accuracy: 0.9952 - auc: 0.9995 - fn: 227.9504 - fp: 361.5496 - loss: 0.0153 - precision: 0.9865 - recall: 0.9913 - tn: 94503.0469 - tp: 26104.6523\n",
      "Epoch 34/43\n",
      "\u001b[1m503/503\u001b[0m \u001b[32m━━━━━━━━━━━━━━━━━━━━\u001b[0m\u001b[37m\u001b[0m \u001b[1m3s\u001b[0m 5ms/step - accuracy: 0.9954 - auc: 0.9994 - fn: 209.5813 - fp: 350.7282 - loss: 0.0147 - precision: 0.9867 - recall: 0.9921 - tn: 94654.5391 - tp: 25982.3555\n",
      "Epoch 35/43\n",
      "\u001b[1m503/503\u001b[0m \u001b[32m━━━━━━━━━━━━━━━━━━━━\u001b[0m\u001b[37m\u001b[0m \u001b[1m3s\u001b[0m 6ms/step - accuracy: 0.9947 - auc: 0.9993 - fn: 263.8631 - fp: 394.9663 - loss: 0.0166 - precision: 0.9852 - recall: 0.9901 - tn: 94637.4453 - tp: 25900.9258\n",
      "Epoch 36/43\n",
      "\u001b[1m503/503\u001b[0m \u001b[32m━━━━━━━━━━━━━━━━━━━━\u001b[0m\u001b[37m\u001b[0m \u001b[1m3s\u001b[0m 6ms/step - accuracy: 0.9948 - auc: 0.9994 - fn: 237.6389 - fp: 381.2064 - loss: 0.0168 - precision: 0.9853 - recall: 0.9910 - tn: 94533.8359 - tp: 26044.5215\n",
      "Epoch 37/43\n",
      "\u001b[1m503/503\u001b[0m \u001b[32m━━━━━━━━━━━━━━━━━━━━\u001b[0m\u001b[37m\u001b[0m \u001b[1m3s\u001b[0m 7ms/step - accuracy: 0.9951 - auc: 0.9995 - fn: 242.2877 - fp: 352.5436 - loss: 0.0153 - precision: 0.9864 - recall: 0.9911 - tn: 94641.6328 - tp: 25960.7422\n",
      "Epoch 38/43\n",
      "\u001b[1m503/503\u001b[0m \u001b[32m━━━━━━━━━━━━━━━━━━━━\u001b[0m\u001b[37m\u001b[0m \u001b[1m3s\u001b[0m 6ms/step - accuracy: 0.9948 - auc: 0.9995 - fn: 222.0556 - fp: 358.0972 - loss: 0.0158 - precision: 0.9852 - recall: 0.9907 - tn: 94539.6328 - tp: 26077.4160\n",
      "Epoch 39/43\n",
      "\u001b[1m503/503\u001b[0m \u001b[32m━━━━━━━━━━━━━━━━━━━━\u001b[0m\u001b[37m\u001b[0m \u001b[1m3s\u001b[0m 6ms/step - accuracy: 0.9925 - auc: 0.9985 - fn: 356.2877 - fp: 444.3413 - loss: 0.0240 - precision: 0.9819 - recall: 0.9836 - tn: 94452.2891 - tp: 25944.2832\n",
      "Epoch 40/43\n",
      "\u001b[1m503/503\u001b[0m \u001b[32m━━━━━━━━━━━━━━━━━━━━\u001b[0m\u001b[37m\u001b[0m \u001b[1m3s\u001b[0m 6ms/step - accuracy: 0.9949 - auc: 0.9994 - fn: 238.8829 - fp: 369.9067 - loss: 0.0154 - precision: 0.9857 - recall: 0.9905 - tn: 94928.1797 - tp: 25660.2324\n",
      "Epoch 41/43\n",
      "\u001b[1m503/503\u001b[0m \u001b[32m━━━━━━━━━━━━━━━━━━━━\u001b[0m\u001b[37m\u001b[0m \u001b[1m3s\u001b[0m 6ms/step - accuracy: 0.9953 - auc: 0.9996 - fn: 218.1310 - fp: 353.5734 - loss: 0.0143 - precision: 0.9866 - recall: 0.9918 - tn: 94553.8359 - tp: 26071.6621\n",
      "Epoch 42/43\n",
      "\u001b[1m503/503\u001b[0m \u001b[32m━━━━━━━━━━━━━━━━━━━━\u001b[0m\u001b[37m\u001b[0m \u001b[1m3s\u001b[0m 6ms/step - accuracy: 0.9956 - auc: 0.9996 - fn: 221.0913 - fp: 333.9544 - loss: 0.0132 - precision: 0.9878 - recall: 0.9917 - tn: 94705.4219 - tp: 25936.7324\n",
      "Epoch 43/43\n",
      "\u001b[1m503/503\u001b[0m \u001b[32m━━━━━━━━━━━━━━━━━━━━\u001b[0m\u001b[37m\u001b[0m \u001b[1m3s\u001b[0m 6ms/step - accuracy: 0.9957 - auc: 0.9995 - fn: 211.2381 - fp: 330.4583 - loss: 0.0136 - precision: 0.9878 - recall: 0.9922 - tn: 94833.9062 - tp: 25821.6035\n"
     ]
    },
    {
     "data": {
      "text/plain": [
       "<keras.src.callbacks.history.History at 0x248408cc050>"
      ]
     },
     "execution_count": 276,
     "metadata": {},
     "output_type": "execute_result"
    }
   ],
   "source": [
    "model.fit(X_train, y_train, epochs=43)"
   ]
  },
  {
   "cell_type": "code",
   "execution_count": 277,
   "id": "805f5f29-84cb-4bcf-b810-10bf37960608",
   "metadata": {},
   "outputs": [
    {
     "name": "stdout",
     "output_type": "stream",
     "text": [
      "\u001b[1m216/216\u001b[0m \u001b[32m━━━━━━━━━━━━━━━━━━━━\u001b[0m\u001b[37m\u001b[0m \u001b[1m1s\u001b[0m 2ms/step\n"
     ]
    }
   ],
   "source": [
    "scores = model.predict(X_test)"
   ]
  },
  {
   "cell_type": "code",
   "execution_count": 278,
   "id": "6f4097d5-2ff9-4d51-9e91-f21d13b02f46",
   "metadata": {},
   "outputs": [],
   "source": [
    "lst = []\n",
    "for n in range(len(scores)):\n",
    "    lst.append([int(round(elem, 0)) for elem in list(scores[n])])"
   ]
  },
  {
   "cell_type": "code",
   "execution_count": 279,
   "id": "6d819942-94f3-4e5e-bfe5-6d3f07d3ffd2",
   "metadata": {},
   "outputs": [],
   "source": [
    "lst = np.array(lst)\n",
    "y_prediction = pd.DataFrame({'BASEL': lst[:, 0], 'BELGRADE': lst[:, 1],\n",
    "                             'BUDAPEST': lst[:, 2],'DEBILT': lst[:, 3],\n",
    "                             'DUSSELDORF': lst[:, 4],'HEATHROW': lst[:, 5],\n",
    "                             'KASSEL': lst[:, 6],'LJUBLJANA': lst[:, 7],\n",
    "                             'MAASTRICHT': lst[:, 8],'MADRID': lst[:, 9],\n",
    "                             'MUNCHENB': lst[:, 10],'OSLO': lst[:, 11],\n",
    "                             'SONNBLICK': lst[:, 12],'STOCKHOLM': lst[:, 13],\n",
    "                             'VALENTIA': lst[:, 14]})\n",
    "\n",
    "y_test = np.array(y_test)\n",
    "y_testframe = pd.DataFrame({'BASEL': y_test[:, 0], 'BELGRADE': y_test[:, 1],\n",
    "                            'BUDAPEST': y_test[:, 2],'DEBILT': y_test[:, 3],\n",
    "                            'DUSSELDORF': y_test[:, 4],'HEATHROW': y_test[:, 5],\n",
    "                            'KASSEL': y_test[:, 6],'LJUBLJANA': y_test[:, 7],\n",
    "                            'MAASTRICHT': y_test[:, 8],'MADRID': y_test[:, 9],\n",
    "                            'MUNCHENB': y_test[:, 10],'OSLO': y_test[:, 11],\n",
    "                            'SONNBLICK': y_test[:, 12],'STOCKHOLM': y_test[:, 13],\n",
    "                            'VALENTIA': y_test[:, 14]})"
   ]
  },
  {
   "cell_type": "code",
   "execution_count": 280,
   "id": "77dcee98-99eb-471d-9042-3465ed6ad86b",
   "metadata": {},
   "outputs": [
    {
     "data": {
      "text/html": [
       "<div>\n",
       "<style scoped>\n",
       "    .dataframe tbody tr th:only-of-type {\n",
       "        vertical-align: middle;\n",
       "    }\n",
       "\n",
       "    .dataframe tbody tr th {\n",
       "        vertical-align: top;\n",
       "    }\n",
       "\n",
       "    .dataframe thead th {\n",
       "        text-align: right;\n",
       "    }\n",
       "</style>\n",
       "<table border=\"1\" class=\"dataframe\">\n",
       "  <thead>\n",
       "    <tr style=\"text-align: right;\">\n",
       "      <th></th>\n",
       "      <th>BASEL</th>\n",
       "      <th>BELGRADE</th>\n",
       "      <th>BUDAPEST</th>\n",
       "      <th>DEBILT</th>\n",
       "      <th>DUSSELDORF</th>\n",
       "      <th>HEATHROW</th>\n",
       "      <th>KASSEL</th>\n",
       "      <th>LJUBLJANA</th>\n",
       "      <th>MAASTRICHT</th>\n",
       "      <th>MADRID</th>\n",
       "      <th>MUNCHENB</th>\n",
       "      <th>OSLO</th>\n",
       "      <th>SONNBLICK</th>\n",
       "      <th>STOCKHOLM</th>\n",
       "      <th>VALENTIA</th>\n",
       "    </tr>\n",
       "  </thead>\n",
       "  <tbody>\n",
       "    <tr>\n",
       "      <th>0</th>\n",
       "      <td>1</td>\n",
       "      <td>1</td>\n",
       "      <td>0</td>\n",
       "      <td>0</td>\n",
       "      <td>0</td>\n",
       "      <td>1</td>\n",
       "      <td>0</td>\n",
       "      <td>0</td>\n",
       "      <td>0</td>\n",
       "      <td>1</td>\n",
       "      <td>0</td>\n",
       "      <td>0</td>\n",
       "      <td>0</td>\n",
       "      <td>0</td>\n",
       "      <td>0</td>\n",
       "    </tr>\n",
       "    <tr>\n",
       "      <th>1</th>\n",
       "      <td>0</td>\n",
       "      <td>0</td>\n",
       "      <td>0</td>\n",
       "      <td>0</td>\n",
       "      <td>0</td>\n",
       "      <td>0</td>\n",
       "      <td>0</td>\n",
       "      <td>0</td>\n",
       "      <td>0</td>\n",
       "      <td>0</td>\n",
       "      <td>0</td>\n",
       "      <td>0</td>\n",
       "      <td>0</td>\n",
       "      <td>0</td>\n",
       "      <td>0</td>\n",
       "    </tr>\n",
       "    <tr>\n",
       "      <th>2</th>\n",
       "      <td>1</td>\n",
       "      <td>1</td>\n",
       "      <td>1</td>\n",
       "      <td>0</td>\n",
       "      <td>0</td>\n",
       "      <td>1</td>\n",
       "      <td>0</td>\n",
       "      <td>0</td>\n",
       "      <td>0</td>\n",
       "      <td>1</td>\n",
       "      <td>1</td>\n",
       "      <td>0</td>\n",
       "      <td>0</td>\n",
       "      <td>0</td>\n",
       "      <td>0</td>\n",
       "    </tr>\n",
       "    <tr>\n",
       "      <th>3</th>\n",
       "      <td>1</td>\n",
       "      <td>0</td>\n",
       "      <td>0</td>\n",
       "      <td>0</td>\n",
       "      <td>0</td>\n",
       "      <td>0</td>\n",
       "      <td>0</td>\n",
       "      <td>1</td>\n",
       "      <td>0</td>\n",
       "      <td>1</td>\n",
       "      <td>0</td>\n",
       "      <td>0</td>\n",
       "      <td>0</td>\n",
       "      <td>0</td>\n",
       "      <td>0</td>\n",
       "    </tr>\n",
       "    <tr>\n",
       "      <th>4</th>\n",
       "      <td>0</td>\n",
       "      <td>0</td>\n",
       "      <td>0</td>\n",
       "      <td>0</td>\n",
       "      <td>0</td>\n",
       "      <td>0</td>\n",
       "      <td>0</td>\n",
       "      <td>0</td>\n",
       "      <td>0</td>\n",
       "      <td>0</td>\n",
       "      <td>0</td>\n",
       "      <td>0</td>\n",
       "      <td>0</td>\n",
       "      <td>0</td>\n",
       "      <td>0</td>\n",
       "    </tr>\n",
       "  </tbody>\n",
       "</table>\n",
       "</div>"
      ],
      "text/plain": [
       "   BASEL  BELGRADE  BUDAPEST  DEBILT  DUSSELDORF  HEATHROW  KASSEL  LJUBLJANA  \\\n",
       "0      1         1         0       0           0         1       0          0   \n",
       "1      0         0         0       0           0         0       0          0   \n",
       "2      1         1         1       0           0         1       0          0   \n",
       "3      1         0         0       0           0         0       0          1   \n",
       "4      0         0         0       0           0         0       0          0   \n",
       "\n",
       "   MAASTRICHT  MADRID  MUNCHENB  OSLO  SONNBLICK  STOCKHOLM  VALENTIA  \n",
       "0           0       1         0     0          0          0         0  \n",
       "1           0       0         0     0          0          0         0  \n",
       "2           0       1         1     0          0          0         0  \n",
       "3           0       1         0     0          0          0         0  \n",
       "4           0       0         0     0          0          0         0  "
      ]
     },
     "execution_count": 280,
     "metadata": {},
     "output_type": "execute_result"
    }
   ],
   "source": [
    "y_testframe.head()"
   ]
  },
  {
   "cell_type": "code",
   "execution_count": 281,
   "id": "b31b9388-a2c0-4715-87b6-b4f5df618040",
   "metadata": {},
   "outputs": [
    {
     "data": {
      "text/html": [
       "<div>\n",
       "<style scoped>\n",
       "    .dataframe tbody tr th:only-of-type {\n",
       "        vertical-align: middle;\n",
       "    }\n",
       "\n",
       "    .dataframe tbody tr th {\n",
       "        vertical-align: top;\n",
       "    }\n",
       "\n",
       "    .dataframe thead th {\n",
       "        text-align: right;\n",
       "    }\n",
       "</style>\n",
       "<table border=\"1\" class=\"dataframe\">\n",
       "  <thead>\n",
       "    <tr style=\"text-align: right;\">\n",
       "      <th></th>\n",
       "      <th>BASEL</th>\n",
       "      <th>BELGRADE</th>\n",
       "      <th>BUDAPEST</th>\n",
       "      <th>DEBILT</th>\n",
       "      <th>DUSSELDORF</th>\n",
       "      <th>HEATHROW</th>\n",
       "      <th>KASSEL</th>\n",
       "      <th>LJUBLJANA</th>\n",
       "      <th>MAASTRICHT</th>\n",
       "      <th>MADRID</th>\n",
       "      <th>MUNCHENB</th>\n",
       "      <th>OSLO</th>\n",
       "      <th>SONNBLICK</th>\n",
       "      <th>STOCKHOLM</th>\n",
       "      <th>VALENTIA</th>\n",
       "    </tr>\n",
       "  </thead>\n",
       "  <tbody>\n",
       "    <tr>\n",
       "      <th>0</th>\n",
       "      <td>1</td>\n",
       "      <td>1</td>\n",
       "      <td>0</td>\n",
       "      <td>0</td>\n",
       "      <td>0</td>\n",
       "      <td>1</td>\n",
       "      <td>0</td>\n",
       "      <td>0</td>\n",
       "      <td>0</td>\n",
       "      <td>1</td>\n",
       "      <td>0</td>\n",
       "      <td>0</td>\n",
       "      <td>0</td>\n",
       "      <td>0</td>\n",
       "      <td>0</td>\n",
       "    </tr>\n",
       "    <tr>\n",
       "      <th>1</th>\n",
       "      <td>0</td>\n",
       "      <td>0</td>\n",
       "      <td>0</td>\n",
       "      <td>0</td>\n",
       "      <td>0</td>\n",
       "      <td>0</td>\n",
       "      <td>0</td>\n",
       "      <td>0</td>\n",
       "      <td>0</td>\n",
       "      <td>0</td>\n",
       "      <td>0</td>\n",
       "      <td>0</td>\n",
       "      <td>0</td>\n",
       "      <td>0</td>\n",
       "      <td>0</td>\n",
       "    </tr>\n",
       "    <tr>\n",
       "      <th>2</th>\n",
       "      <td>1</td>\n",
       "      <td>1</td>\n",
       "      <td>1</td>\n",
       "      <td>0</td>\n",
       "      <td>0</td>\n",
       "      <td>1</td>\n",
       "      <td>0</td>\n",
       "      <td>0</td>\n",
       "      <td>0</td>\n",
       "      <td>1</td>\n",
       "      <td>1</td>\n",
       "      <td>0</td>\n",
       "      <td>0</td>\n",
       "      <td>0</td>\n",
       "      <td>0</td>\n",
       "    </tr>\n",
       "    <tr>\n",
       "      <th>3</th>\n",
       "      <td>1</td>\n",
       "      <td>0</td>\n",
       "      <td>0</td>\n",
       "      <td>0</td>\n",
       "      <td>0</td>\n",
       "      <td>0</td>\n",
       "      <td>0</td>\n",
       "      <td>1</td>\n",
       "      <td>0</td>\n",
       "      <td>1</td>\n",
       "      <td>0</td>\n",
       "      <td>1</td>\n",
       "      <td>0</td>\n",
       "      <td>0</td>\n",
       "      <td>0</td>\n",
       "    </tr>\n",
       "    <tr>\n",
       "      <th>4</th>\n",
       "      <td>0</td>\n",
       "      <td>0</td>\n",
       "      <td>0</td>\n",
       "      <td>0</td>\n",
       "      <td>0</td>\n",
       "      <td>0</td>\n",
       "      <td>0</td>\n",
       "      <td>0</td>\n",
       "      <td>0</td>\n",
       "      <td>0</td>\n",
       "      <td>0</td>\n",
       "      <td>0</td>\n",
       "      <td>0</td>\n",
       "      <td>0</td>\n",
       "      <td>0</td>\n",
       "    </tr>\n",
       "  </tbody>\n",
       "</table>\n",
       "</div>"
      ],
      "text/plain": [
       "   BASEL  BELGRADE  BUDAPEST  DEBILT  DUSSELDORF  HEATHROW  KASSEL  LJUBLJANA  \\\n",
       "0      1         1         0       0           0         1       0          0   \n",
       "1      0         0         0       0           0         0       0          0   \n",
       "2      1         1         1       0           0         1       0          0   \n",
       "3      1         0         0       0           0         0       0          1   \n",
       "4      0         0         0       0           0         0       0          0   \n",
       "\n",
       "   MAASTRICHT  MADRID  MUNCHENB  OSLO  SONNBLICK  STOCKHOLM  VALENTIA  \n",
       "0           0       1         0     0          0          0         0  \n",
       "1           0       0         0     0          0          0         0  \n",
       "2           0       1         1     0          0          0         0  \n",
       "3           0       1         0     1          0          0         0  \n",
       "4           0       0         0     0          0          0         0  "
      ]
     },
     "execution_count": 281,
     "metadata": {},
     "output_type": "execute_result"
    }
   ],
   "source": [
    "y_prediction.head()"
   ]
  },
  {
   "cell_type": "code",
   "execution_count": 282,
   "id": "2cec3131-35f6-4f38-81cb-052f7effe0d0",
   "metadata": {},
   "outputs": [
    {
     "data": {
      "text/plain": [
       "BASEL         2\n",
       "BELGRADE      2\n",
       "BUDAPEST      2\n",
       "DEBILT        2\n",
       "DUSSELDORF    2\n",
       "HEATHROW      2\n",
       "KASSEL        2\n",
       "LJUBLJANA     2\n",
       "MAASTRICHT    2\n",
       "MADRID        2\n",
       "MUNCHENB      2\n",
       "OSLO          2\n",
       "SONNBLICK     1\n",
       "STOCKHOLM     2\n",
       "VALENTIA      2\n",
       "dtype: int64"
      ]
     },
     "execution_count": 282,
     "metadata": {},
     "output_type": "execute_result"
    }
   ],
   "source": [
    "y_prediction.nunique()"
   ]
  },
  {
   "cell_type": "code",
   "execution_count": 283,
   "id": "1d5104e3-4536-4881-b203-3442e904193e",
   "metadata": {},
   "outputs": [
    {
     "data": {
      "image/png": "[encoded data removed]",
      "text/plain": [
       "<Figure size 2500x1500 with 16 Axes>"
      ]
     },
     "metadata": {},
     "output_type": "display_data"
    }
   ],
   "source": [
    "f, axes = plt.subplots(3, 5, figsize=(25, 15))\n",
    "axes = axes.ravel()\n",
    "for i in range(15):\n",
    "    if i==12:\n",
    "        labels = [0]\n",
    "    else:\n",
    "        labels = [0,1]\n",
    "    \n",
    "    disp = ConfusionMatrixDisplay(confusion_matrix(y_test[:, i],\n",
    "                                                   lst[:, i]),\n",
    "                                  display_labels=labels)\n",
    "    disp.plot(ax=axes[i], values_format='.4g')\n",
    "    \n",
    "    disp.ax_.set_title(locations[i])\n",
    "    \n",
    "    if i<10:\n",
    "        disp.ax_.set_xlabel('')\n",
    "    if i%5!=0:\n",
    "        disp.ax_.set_ylabel('')\n",
    "    disp.im_.colorbar.remove()\n",
    "\n",
    "plt.subplots_adjust(wspace=0.10, hspace=0.1)\n",
    "f.colorbar(disp.im_, ax=axes)\n",
    "plt.show()"
   ]
  },
  {
   "cell_type": "code",
   "execution_count": null,
   "id": "fc35d08d-bd53-4821-91ae-e24be412a535",
   "metadata": {},
   "outputs": [],
   "source": []
  }
 ],
 "metadata": {
  "kernelspec": {
   "display_name": "Python 3 (ipykernel)",
   "language": "python",
   "name": "python3"
  },
  "language_info": {
   "codemirror_mode": {
    "name": "ipython",
    "version": 3
   },
   "file_extension": ".py",
   "mimetype": "text/x-python",
   "name": "python",
   "nbconvert_exporter": "python",
   "pygments_lexer": "ipython3",
   "version": "3.11.5"
  }
 },
 "nbformat": 4,
 "nbformat_minor": 5
}
